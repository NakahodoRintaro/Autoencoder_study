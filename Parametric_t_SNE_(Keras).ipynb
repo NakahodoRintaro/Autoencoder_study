{
  "nbformat": 4,
  "nbformat_minor": 0,
  "metadata": {
    "kernelspec": {
      "display_name": "Python 2",
      "language": "python",
      "name": "python2"
    },
    "language_info": {
      "codemirror_mode": {
        "name": "ipython",
        "version": 2
      },
      "file_extension": ".py",
      "mimetype": "text/x-python",
      "name": "python",
      "nbconvert_exporter": "python",
      "pygments_lexer": "ipython2",
      "version": "2.7.6"
    },
    "colab": {
      "name": "Parametric t-SNE (Keras).ipynb",
      "provenance": [],
      "include_colab_link": true
    }
  },
  "cells": [
    {
      "cell_type": "markdown",
      "metadata": {
        "id": "view-in-github",
        "colab_type": "text"
      },
      "source": [
        "<a href=\"https://colab.research.google.com/github/NakahodoRintaro/Autoencoder_study/blob/main/Parametric_t_SNE_(Keras).ipynb\" target=\"_parent\"><img src=\"https://colab.research.google.com/assets/colab-badge.svg\" alt=\"Open In Colab\"/></a>"
      ]
    },
    {
      "cell_type": "code",
      "metadata": {
        "id": "Sx6Wz1_1MRxw"
      },
      "source": [
        "!nvidia-smi"
      ],
      "execution_count": null,
      "outputs": []
    },
    {
      "cell_type": "code",
      "metadata": {
        "collapsed": true,
        "id": "2irTtTnuMRxx"
      },
      "source": [
        "import os\n",
        "os.environ['THEANO_FLAGS'] = 'device=gpu1'"
      ],
      "execution_count": null,
      "outputs": []
    },
    {
      "cell_type": "code",
      "metadata": {
        "id": "pCbakoOwMRxx",
        "outputId": "ccfbe85d-85e6-43d4-da1a-0791c906a1b6"
      },
      "source": [
        "%matplotlib inline\n",
        "from matplotlib import pyplot as plt\n",
        "import numpy as np\n",
        "import keras\n",
        "from keras import backend as K\n",
        "from keras.models import Sequential\n",
        "from keras.layers.core import Dense, Dropout, Activation, Flatten\n",
        "from keras.layers.convolutional import Convolution2D, MaxPooling2D\n",
        "from keras.optimizers import SGD\n",
        "from keras.utils import np_utils\n",
        "from keras.objectives import categorical_crossentropy\n",
        "from keras.datasets import mnist"
      ],
      "execution_count": null,
      "outputs": [
        {
          "output_type": "stream",
          "text": [
            "Using Theano backend.\n",
            "Using gpu device 1: GeForce GTX TITAN X (CNMeM is disabled)\n"
          ],
          "name": "stderr"
        }
      ]
    },
    {
      "cell_type": "code",
      "metadata": {
        "id": "wxgwLdTOMRxy",
        "outputId": "60f2bfa3-07c9-4da4-ef2f-830010baaa6d"
      },
      "source": [
        "batch_size = 5000\n",
        "\n",
        "%time (X_train, y_train), (X_test, y_test) = mnist.load_data()\n",
        "\n",
        "X_train = X_train.reshape(-1, 784)\n",
        "X_test = X_test.reshape(-1, 784)\n",
        "X_train = X_train.astype('float32')\n",
        "X_test = X_test.astype('float32')\n",
        "X_train /= 255\n",
        "X_test /= 255\n",
        "print(X_train.shape[0], 'train samples')\n",
        "print(X_test.shape[0], 'test samples')"
      ],
      "execution_count": null,
      "outputs": [
        {
          "output_type": "stream",
          "text": [
            "CPU times: user 976 ms, sys: 130 ms, total: 1.11 s\n",
            "Wall time: 1.1 s\n",
            "(60000, 'train samples')\n",
            "(10000, 'test samples')\n"
          ],
          "name": "stdout"
        }
      ]
    },
    {
      "cell_type": "code",
      "metadata": {
        "collapsed": true,
        "id": "BdP4Ys0bMRxy"
      },
      "source": [
        "def Hbeta(D, beta):\n",
        "    P = np.exp(-D * beta)\n",
        "    sumP = np.sum(P)\n",
        "    H = np.log(sumP) + beta * np.sum(np.multiply(D, P)) / sumP\n",
        "    P = P / sumP\n",
        "    return H, P\n",
        "\n",
        "def x2p(X, u=15, tol=1e-4, print_iter=500, max_tries=50, verbose=0):\n",
        "    # Initialize some variables\n",
        "    n = X.shape[0]                     # number of instances\n",
        "    P = np.zeros((n, n))               # empty probability matrix\n",
        "    beta = np.ones(n)                  # empty precision vector\n",
        "    logU = np.log(u)                   # log of perplexity (= entropy)\n",
        "    \n",
        "    # Compute pairwise distances\n",
        "    if verbose > 0: print('Computing pairwise distances...')\n",
        "    sum_X = np.sum(np.square(X), axis=1)\n",
        "    # note: translating sum_X' from matlab to numpy means using reshape to add a dimension\n",
        "    D = sum_X + sum_X[:,None] + -2 * X.dot(X.T)\n",
        "\n",
        "    # Run over all datapoints\n",
        "    if verbose > 0: print('Computing P-values...')\n",
        "    for i in range(n):\n",
        "        \n",
        "        if verbose > 1 and print_iter and i % print_iter == 0:\n",
        "            print('Computed P-values {} of {} datapoints...'.format(i, n))\n",
        "        \n",
        "        # Set minimum and maximum values for precision\n",
        "        betamin = float('-inf')\n",
        "        betamax = float('+inf')\n",
        "        \n",
        "        # Compute the Gaussian kernel and entropy for the current precision\n",
        "        indices = np.concatenate((np.arange(0, i), np.arange(i + 1, n)))\n",
        "        Di = D[i, indices]\n",
        "        H, thisP = Hbeta(Di, beta[i])\n",
        "        \n",
        "        # Evaluate whether the perplexity is within tolerance\n",
        "        Hdiff = H - logU\n",
        "        tries = 0\n",
        "        while abs(Hdiff) > tol and tries < max_tries:\n",
        "            \n",
        "            # If not, increase or decrease precision\n",
        "            if Hdiff > 0:\n",
        "                betamin = beta[i]\n",
        "                if np.isinf(betamax):\n",
        "                    beta[i] *= 2\n",
        "                else:\n",
        "                    beta[i] = (beta[i] + betamax) / 2\n",
        "            else:\n",
        "                betamax = beta[i]\n",
        "                if np.isinf(betamin):\n",
        "                    beta[i] /= 2\n",
        "                else:\n",
        "                    beta[i] = (beta[i] + betamin) / 2\n",
        "            \n",
        "            # Recompute the values\n",
        "            H, thisP = Hbeta(Di, beta[i])\n",
        "            Hdiff = H - logU\n",
        "            tries += 1\n",
        "        \n",
        "        # Set the final row of P\n",
        "        P[i, indices] = thisP\n",
        "        \n",
        "    if verbose > 0: \n",
        "        print('Mean value of sigma: {}'.format(np.mean(np.sqrt(1 / beta))))\n",
        "        print('Minimum value of sigma: {}'.format(np.min(np.sqrt(1 / beta))))\n",
        "        print('Maximum value of sigma: {}'.format(np.max(np.sqrt(1 / beta))))\n",
        "    \n",
        "    return P, beta\n",
        "\n",
        "def compute_joint_probabilities(samples, batch_size=5000, d=2, perplexity=30, tol=1e-5, verbose=0):\n",
        "    v = d - 1\n",
        "    \n",
        "    # Initialize some variables\n",
        "    n = samples.shape[0]\n",
        "    batch_size = min(batch_size, n)\n",
        "    \n",
        "    # Precompute joint probabilities for all batches\n",
        "    if verbose > 0: print('Precomputing P-values...')\n",
        "    batch_count = int(n / batch_size)\n",
        "    P = np.zeros((batch_count, batch_size, batch_size))\n",
        "    for i, start in enumerate(range(0, n - batch_size + 1, batch_size)):   \n",
        "        curX = samples[start:start+batch_size]                   # select batch\n",
        "        P[i], beta = x2p(curX, perplexity, tol, verbose=verbose) # compute affinities using fixed perplexity\n",
        "        P[i][np.isnan(P[i])] = 0                                 # make sure we don't have NaN's\n",
        "        P[i] = (P[i] + P[i].T) # / 2                             # make symmetric\n",
        "        P[i] = P[i] / P[i].sum()                                 # obtain estimation of joint probabilities\n",
        "        P[i] = np.maximum(P[i], np.finfo(P[i].dtype).eps)\n",
        "\n",
        "    return P"
      ],
      "execution_count": null,
      "outputs": []
    },
    {
      "cell_type": "code",
      "metadata": {
        "id": "giwEWlqcMRxz"
      },
      "source": [
        "%time P = compute_joint_probabilities(X_train, batch_size=batch_size, verbose=2)"
      ],
      "execution_count": null,
      "outputs": []
    },
    {
      "cell_type": "code",
      "metadata": {
        "id": "mRMT4zJ0MRxz"
      },
      "source": [
        "%time np.save('P.npy', P)\n",
        "# %time P = np.load('P.npy')"
      ],
      "execution_count": null,
      "outputs": []
    },
    {
      "cell_type": "code",
      "metadata": {
        "id": "ee_bsEvkMRxz"
      },
      "source": [
        "# P is the joint probabilities for this batch (Keras loss functions call this y_true)\n",
        "# activations is the low-dimensional output (Keras loss functions call this y_pred)\n",
        "def tsne(P, activations):\n",
        "#     d = K.shape(activations)[1]\n",
        "    d = 2 # TODO: should set this automatically, but the above is very slow for some reason\n",
        "    n = batch_size # TODO: should set this automatically\n",
        "    v = d - 1.\n",
        "    eps = K.variable(10e-15) # needs to be at least 10e-8 to get anything after Q /= K.sum(Q)\n",
        "    sum_act = K.sum(K.square(activations), axis=1)\n",
        "    Q = K.reshape(sum_act, [-1, 1]) + -2 * K.dot(activations, K.transpose(activations))\n",
        "    Q = (sum_act + Q) / v\n",
        "    Q = K.pow(1 + Q, -(v + 1) / 2)\n",
        "    Q *= K.variable(1 - np.eye(n))\n",
        "    Q /= K.sum(Q)\n",
        "    Q = K.maximum(Q, eps)\n",
        "    C = K.log((P + eps) / (Q + eps))\n",
        "    C = K.sum(P * C)\n",
        "    return C"
      ],
      "execution_count": null,
      "outputs": []
    },
    {
      "cell_type": "code",
      "metadata": {
        "id": "oWVaxsc_MRx0"
      },
      "source": [
        "model = Sequential()\n",
        "model.add(Dense(500, activation='relu', input_shape=(X_train.shape[1],)))\n",
        "model.add(Dense(500, activation='relu'))\n",
        "model.add(Dense(2000, activation='relu'))\n",
        "model.add(Dense(2))\n",
        "sgd = SGD(lr=0.1)\n",
        "%time model.compile(loss=tsne, optimizer=sgd)"
      ],
      "execution_count": null,
      "outputs": []
    },
    {
      "cell_type": "code",
      "metadata": {
        "id": "K28yKMV-MRx0"
      },
      "source": [
        "Y_train = P.reshape(X_train.shape[0], -1)\n",
        "print(X_train.shape)\n",
        "print(Y_train.shape)"
      ],
      "execution_count": null,
      "outputs": []
    },
    {
      "cell_type": "code",
      "metadata": {
        "scrolled": false,
        "id": "owu-xSliMRx0"
      },
      "source": [
        "%time model.fit(X_train, Y_train, batch_size=batch_size, shuffle=False, nb_epoch=100)"
      ],
      "execution_count": null,
      "outputs": []
    },
    {
      "cell_type": "code",
      "metadata": {
        "id": "LepRqoUNMRx1"
      },
      "source": [
        "def plot_model(embedding, labels):\n",
        "    fig = plt.figure(figsize=(8,8))\n",
        "    plt.scatter(embedding[:,0], embedding[:,1], marker='o', s=1, edgecolor='', c=labels)\n",
        "    fig.tight_layout()\n",
        "    \n",
        "from matplotlib.lines import Line2D\n",
        "def plot_differences(embedding, actual, lim=1000):\n",
        "    fig = plt.figure(figsize=(8,8))\n",
        "    ax = fig.gca()\n",
        "    for a, b in zip(embedding, actual)[:lim]:\n",
        "        ax.add_line(Line2D((a[0], b[0]), (a[1], b[1]), linewidth=1))\n",
        "    ax.autoscale_view()\n",
        "    plt.show()\n",
        "# plot_model(model.predict(data), y_train)"
      ],
      "execution_count": null,
      "outputs": []
    },
    {
      "cell_type": "code",
      "metadata": {
        "id": "sd9lU_fTMRx1"
      },
      "source": [
        "from tsne import bh_sne\n",
        "%time X_2d = bh_sne(X_train.astype(np.float64))"
      ],
      "execution_count": null,
      "outputs": []
    },
    {
      "cell_type": "code",
      "metadata": {
        "id": "KMm3PZY0MRx1",
        "outputId": "d9d5342c-fc3e-49c6-bf3b-2461c093f93b"
      },
      "source": [
        "# %time np.save('X_2d.npy', X_2d)\n",
        "# %time X_2d = np.load('X_2d.npy')\n",
        "X_2d.shape"
      ],
      "execution_count": null,
      "outputs": [
        {
          "output_type": "stream",
          "text": [
            "CPU times: user 883 µs, sys: 757 µs, total: 1.64 ms\n",
            "Wall time: 1.11 ms\n"
          ],
          "name": "stdout"
        },
        {
          "output_type": "execute_result",
          "data": {
            "text/plain": [
              "(60000, 2)"
            ]
          },
          "metadata": {
            "tags": []
          },
          "execution_count": 4
        }
      ]
    },
    {
      "cell_type": "code",
      "metadata": {
        "id": "HxIg_ioYMRx1",
        "outputId": "e88f37a0-b1d8-4312-de71-e20919c06539"
      },
      "source": [
        "# around 1.2M parameters\n",
        "encoder = Sequential()\n",
        "encoder.add(Dense(500, activation='relu', input_shape=(X_train.shape[1],)))\n",
        "encoder.add(Dense(500, activation='relu'))\n",
        "encoder.add(Dense(2000, activation='relu'))\n",
        "encoder.add(Dense(2))\n",
        "%time encoder.compile(loss='mse', optimizer='rmsprop')"
      ],
      "execution_count": null,
      "outputs": [
        {
          "output_type": "stream",
          "text": [
            "CPU times: user 2.04 s, sys: 253 ms, total: 2.29 s\n",
            "Wall time: 5.03 s\n"
          ],
          "name": "stdout"
        }
      ]
    },
    {
      "cell_type": "code",
      "metadata": {
        "id": "FKoTUmQEMRx2"
      },
      "source": [
        "%time encoder.fit(X_train, X_2d, nb_epoch=100, verbose=2)"
      ],
      "execution_count": null,
      "outputs": []
    },
    {
      "cell_type": "code",
      "metadata": {
        "id": "dTUhJRo4MRx2"
      },
      "source": [
        "plot_model(encoder.predict(X_train), y_train)"
      ],
      "execution_count": null,
      "outputs": []
    },
    {
      "cell_type": "code",
      "metadata": {
        "id": "ufVRDIfMMRx2"
      },
      "source": [
        "plot_differences(encoder.predict(X_train), X_2d)"
      ],
      "execution_count": null,
      "outputs": []
    },
    {
      "cell_type": "code",
      "metadata": {
        "id": "QVNPCreKMRx2"
      },
      "source": [
        "# around 600K parameters\n",
        "nb_filters = 32\n",
        "nb_pool = 2\n",
        "nb_conv = 3\n",
        "conv = Sequential()\n",
        "conv.add(Convolution2D(nb_filters, nb_conv, nb_conv, input_shape=(1, 28, 28)))\n",
        "conv.add(Activation('relu'))\n",
        "conv.add(Convolution2D(nb_filters, nb_conv, nb_conv))\n",
        "conv.add(Activation('relu'))\n",
        "conv.add(MaxPooling2D(pool_size=(nb_pool, nb_pool)))\n",
        "conv.add(Dropout(0.25))\n",
        "conv.add(Flatten())\n",
        "conv.add(Dense(128))\n",
        "conv.add(Activation('relu'))\n",
        "conv.add(Dense(2))\n",
        "%time conv.compile(loss='mean_squared_error', optimizer='rmsprop')"
      ],
      "execution_count": null,
      "outputs": []
    },
    {
      "cell_type": "code",
      "metadata": {
        "id": "xBV6i91jMRx2"
      },
      "source": [
        "X_train_conv = X_train.reshape(-1, 1, 28, 28)\n",
        "%time conv.fit(X_train_conv, X_2d, nb_epoch=100)"
      ],
      "execution_count": null,
      "outputs": []
    },
    {
      "cell_type": "code",
      "metadata": {
        "id": "KfL69CpzMRx2"
      },
      "source": [
        "plot_model(conv, X_train_conv, y_train)"
      ],
      "execution_count": null,
      "outputs": []
    },
    {
      "cell_type": "code",
      "metadata": {
        "id": "6uqsJryNMRx3"
      },
      "source": [
        "plot_differences(conv, X_train_conv, X_2d)"
      ],
      "execution_count": null,
      "outputs": []
    },
    {
      "cell_type": "code",
      "metadata": {
        "id": "_tWpc6hOMRx3",
        "outputId": "688a4629-6bef-40c2-df11-8503b1ebb7fa"
      },
      "source": [
        "# around 1.2M parameters\n",
        "decoder = Sequential()\n",
        "decoder.add(Dense(2000, activation='relu', input_shape=(2,)))\n",
        "decoder.add(Dense(500, activation='relu'))\n",
        "decoder.add(Dense(500, activation='relu'))\n",
        "decoder.add(Dense(X_train.shape[1]))\n",
        "%time decoder.compile(loss='mse', optimizer='rmsprop')"
      ],
      "execution_count": null,
      "outputs": [
        {
          "output_type": "stream",
          "text": [
            "CPU times: user 2.09 s, sys: 211 ms, total: 2.3 s\n",
            "Wall time: 2.3 s\n"
          ],
          "name": "stdout"
        }
      ]
    },
    {
      "cell_type": "code",
      "metadata": {
        "id": "9DJXz8GKMRx3"
      },
      "source": [
        "%time decoder.fit(X_2d, X_train, nb_epoch=100, verbose=2)"
      ],
      "execution_count": null,
      "outputs": []
    },
    {
      "cell_type": "code",
      "metadata": {
        "id": "1Pk4yjJkMRx3"
      },
      "source": [
        "def make_mosaic(images_flat, n):\n",
        "    nx = ny = n\n",
        "    w = h = int(np.sqrt(len(images_flat[0])))\n",
        "    images = images_flat.reshape(-1, h, w)\n",
        "    image_gen = iter(images)\n",
        "    mosaic = np.empty((h*ny, w*nx))\n",
        "    for i in range(ny):\n",
        "        for j in range(nx):\n",
        "            mosaic[(nx-i-1)*w:(nx-i)*w, j*h:(j+1)*h] = next(image_gen)\n",
        "    return mosaic\n",
        "\n",
        "from cStringIO import StringIO\n",
        "import PIL.Image\n",
        "import IPython.display\n",
        "import shutil\n",
        "def showarray(a, fmt='png', filename=None):\n",
        "    a = np.uint8(np.clip(a, 0, 255))\n",
        "    image_data = StringIO()\n",
        "    PIL.Image.fromarray(a).save(image_data, fmt)\n",
        "    IPython.display.display(IPython.display.Image(data=image_data.getvalue()))\n",
        "    if filename is not None:\n",
        "        with open(filename, 'w') as f:\n",
        "            image_data.seek(0)\n",
        "            shutil.copyfileobj(image_data, f)"
      ],
      "execution_count": null,
      "outputs": []
    },
    {
      "cell_type": "code",
      "metadata": {
        "id": "qQVfJm4pMRx3"
      },
      "source": [
        "showarray(255 * make_mosaic(X_train, 12))\n",
        "showarray(255 * make_mosaic(decoder.predict(X_2d), 12))"
      ],
      "execution_count": null,
      "outputs": []
    },
    {
      "cell_type": "code",
      "metadata": {
        "id": "NGbgTiHZMRx4",
        "outputId": "66858fd4-b80e-4fbe-f494-ff8c76eafd1a"
      },
      "source": [
        "n = X_train.shape[1]\n",
        "ae = Sequential()\n",
        "ae.add(Dense(500, activation='relu', weights=encoder.layers[0].get_weights(), input_shape=(n,)))\n",
        "ae.add(Dense(500, activation='relu', weights=encoder.layers[1].get_weights()))\n",
        "ae.add(Dense(2000, activation='relu', weights=encoder.layers[2].get_weights()))\n",
        "ae.add(Dense(2, weights=encoder.layers[3].get_weights()))\n",
        "ae.add(Dense(2000, activation='relu', weights=decoder.layers[0].get_weights()))\n",
        "ae.add(Dense(500, activation='relu', weights=decoder.layers[1].get_weights()))\n",
        "ae.add(Dense(500, activation='relu', weights=decoder.layers[2].get_weights()))\n",
        "ae.add(Dense(n, weights=decoder.layers[3].get_weights()))\n",
        "%time ae.compile(loss='mse', optimizer='rmsprop')"
      ],
      "execution_count": null,
      "outputs": [
        {
          "output_type": "stream",
          "text": [
            "CPU times: user 3.65 s, sys: 362 ms, total: 4.02 s\n",
            "Wall time: 4.01 s\n"
          ],
          "name": "stdout"
        }
      ]
    },
    {
      "cell_type": "code",
      "metadata": {
        "id": "2gQUS7a_MRx4"
      },
      "source": [
        "%time ae.fit(X_train, X_train, nb_epoch=100, verbose=2, batch_size=32)"
      ],
      "execution_count": null,
      "outputs": []
    },
    {
      "cell_type": "code",
      "metadata": {
        "id": "0ZUSdjNxMRx4"
      },
      "source": [
        "decoded = ae.predict(X_train)\n",
        "showarray(255 * make_mosaic(decoded, 12))"
      ],
      "execution_count": null,
      "outputs": []
    },
    {
      "cell_type": "code",
      "metadata": {
        "id": "JNtkRXDBMRx4"
      },
      "source": [
        "import theano\n",
        "def get_submodel(model, start, end):\n",
        "    return theano.function([model.layers[start].input],\n",
        "                          model.layers[end].get_output(train=False),\n",
        "                          allow_input_downcast=True)\n",
        "def get_encoder(ae):\n",
        "    return get_submodel(ae, 0, (len(ae.layers) / 2) - 1)\n",
        "def get_decoder(ae):\n",
        "    return get_submodel(ae, len(ae.layers) / 2, (len(ae.layers) / 2) - 1) # this doesn't work"
      ],
      "execution_count": null,
      "outputs": []
    },
    {
      "cell_type": "code",
      "metadata": {
        "id": "4zPdFNHRMRx4"
      },
      "source": [
        "ae_encoder = get_encoder(ae)\n",
        "# ae_decoder = get_decoder(ae)"
      ],
      "execution_count": null,
      "outputs": []
    },
    {
      "cell_type": "code",
      "metadata": {
        "id": "U0GUDCinMRx4"
      },
      "source": [
        "encoded = encoder.predict(X_train)\n",
        "ae_encoded = ae_encoder(X_train)"
      ],
      "execution_count": null,
      "outputs": []
    },
    {
      "cell_type": "code",
      "metadata": {
        "id": "ng3CR7WOMRx4"
      },
      "source": [
        "plot_differences(encoded, ae_encoded, lim=1000)"
      ],
      "execution_count": null,
      "outputs": []
    },
    {
      "cell_type": "code",
      "metadata": {
        "id": "odS8msyqMRx5"
      },
      "source": [
        "plot_model(encoded, y_train)"
      ],
      "execution_count": null,
      "outputs": []
    },
    {
      "cell_type": "code",
      "metadata": {
        "id": "rNB_-EpzMRx5"
      },
      "source": [
        "plot_model(ae_encoded, y_train)"
      ],
      "execution_count": null,
      "outputs": []
    },
    {
      "cell_type": "code",
      "metadata": {
        "id": "-gKL9d7YMRx5"
      },
      "source": [
        "ae_decoder = Sequential()\n",
        "ae_decoder.add(Dense(2000, activation='relu', weights=ae.layers[4].get_weights(), input_shape=(2,)))\n",
        "ae_decoder.add(Dense(500, activation='relu', weights=ae.layers[5].get_weights()))\n",
        "ae_decoder.add(Dense(500, activation='relu', weights=ae.layers[6].get_weights()))\n",
        "ae_decoder.add(Dense(X_train.shape[1], weights=ae.layers[7].get_weights()))\n",
        "%time ae_decoder.compile(loss='mse', optimizer='rmsprop')"
      ],
      "execution_count": null,
      "outputs": []
    },
    {
      "cell_type": "code",
      "metadata": {
        "collapsed": true,
        "id": "IuKk0eH3MRx5"
      },
      "source": [
        "def sample_grid(model, example_data, filename=None, n=128):\n",
        "    x = np.linspace(example_data[:,0].min(), example_data[:,0].max(), n)\n",
        "    y = np.linspace(example_data[:,1].min(), example_data[:,1].max(), n)\n",
        "    xv, yv = np.meshgrid(x, y)\n",
        "    samples_encoded = np.array(zip(xv.flatten(), yv.flatten()))\n",
        "    samples_decoded = model.predict(samples_encoded)\n",
        "    showarray(255 * make_mosaic(samples_decoded, n), filename=filename)"
      ],
      "execution_count": null,
      "outputs": []
    },
    {
      "cell_type": "code",
      "metadata": {
        "id": "5DbC0ISyMRx6"
      },
      "source": [
        "sample_grid(decoder, encoded, filename='output-orig.png')"
      ],
      "execution_count": null,
      "outputs": []
    },
    {
      "cell_type": "code",
      "metadata": {
        "id": "eXRCvwDJMRx6"
      },
      "source": [
        "sample_grid(ae_decoder, ae_encoded, filename='output-finer.png')"
      ],
      "execution_count": null,
      "outputs": []
    },
    {
      "cell_type": "code",
      "metadata": {
        "id": "oIRAMMNBMRx6",
        "outputId": "96fb95de-4a07-45f2-c385-07be4c1f5afe"
      },
      "source": [
        "n = X_train.shape[1]\n",
        "ae_scratch = Sequential()\n",
        "ae_scratch.add(Dense(500, activation='relu', input_shape=(n,)))\n",
        "ae_scratch.add(Dense(500, activation='relu'))\n",
        "ae_scratch.add(Dense(2000, activation='relu'))\n",
        "ae_scratch.add(Dense(2))\n",
        "ae_scratch.add(Dense(2000, activation='relu'))\n",
        "ae_scratch.add(Dense(500, activation='relu'))\n",
        "ae_scratch.add(Dense(500, activation='relu'))\n",
        "ae_scratch.add(Dense(n))\n",
        "%time ae_scratch.compile(loss='mse', optimizer='rmsprop')"
      ],
      "execution_count": null,
      "outputs": [
        {
          "output_type": "stream",
          "text": [
            "CPU times: user 3.78 s, sys: 362 ms, total: 4.14 s\n",
            "Wall time: 4.14 s\n"
          ],
          "name": "stdout"
        }
      ]
    },
    {
      "cell_type": "code",
      "metadata": {
        "id": "5asgYgQhMRx6"
      },
      "source": [
        "ae_scratch.fit(X_train, X_train, nb_epoch=300, verbose=2)"
      ],
      "execution_count": null,
      "outputs": []
    },
    {
      "cell_type": "code",
      "metadata": {
        "id": "5pL2ZcZUMRx6",
        "outputId": "0537da12-11b0-41ca-c5b8-651205a955b4"
      },
      "source": [
        "plt.figure(figsize=(10,6))\n",
        "plt1, = plt.plot(ae_scratch.history.history['loss'][:200], label='Vanilla AE')\n",
        "plt2, = plt.plot(decoder.history.history['loss'], label='t-SNE Generator')\n",
        "plt3, = plt.plot(range(100, 200), ae.history.history['loss'], label='t-SNE AE')\n",
        "plt.legend(handles=[plt1, plt2, plt3])\n",
        "plt.xlabel('Epochs')\n",
        "plt.ylabel('Reconstruction Loss (MSE)')\n",
        "# plt.plot(encoder.history.history['loss'])"
      ],
      "execution_count": null,
      "outputs": [
        {
          "output_type": "execute_result",
          "data": {
            "text/plain": [
              "<matplotlib.text.Text at 0x7f203b993890>"
            ]
          },
          "metadata": {
            "tags": []
          },
          "execution_count": 42
        },
        {
          "output_type": "display_data",
          "data": {
            "image/png": "[encoded data removed]",
            "text/plain": [
              "<matplotlib.figure.Figure at 0x7f203b8b3cd0>"
            ]
          },
          "metadata": {
            "tags": []
          }
        }
      ]
    },
    {
      "cell_type": "code",
      "metadata": {
        "collapsed": true,
        "id": "UhmfUa4mMRx7"
      },
      "source": [
        "ae_scratch_encoder = get_encoder(ae_scratch)"
      ],
      "execution_count": null,
      "outputs": []
    },
    {
      "cell_type": "code",
      "metadata": {
        "collapsed": true,
        "id": "wxSwNZ5jMRx7"
      },
      "source": [
        "ae_scratch_encoded = ae_scratch_encoder(X_train)"
      ],
      "execution_count": null,
      "outputs": []
    },
    {
      "cell_type": "code",
      "metadata": {
        "id": "HrkBaJ_CMRx7"
      },
      "source": [
        "ae_scratch_decoder = Sequential()\n",
        "ae_scratch_decoder.add(Dense(2000, activation='relu', weights=ae_scratch.layers[4].get_weights(), input_shape=(2,)))\n",
        "ae_scratch_decoder.add(Dense(500, activation='relu', weights=ae_scratch.layers[5].get_weights()))\n",
        "ae_scratch_decoder.add(Dense(500, activation='relu', weights=ae_scratch.layers[6].get_weights()))\n",
        "ae_scratch_decoder.add(Dense(X_train.shape[1], weights=ae_scratch.layers[7].get_weights()))\n",
        "%time ae_scratch_decoder.compile(loss='mse', optimizer='rmsprop')"
      ],
      "execution_count": null,
      "outputs": []
    },
    {
      "cell_type": "code",
      "metadata": {
        "id": "C7gJqwlfMRx7"
      },
      "source": [
        "sample_grid(ae_scratch_decoder, ae_scratch_encoded, filename='output-scratch.png')"
      ],
      "execution_count": null,
      "outputs": []
    }
  ]
}